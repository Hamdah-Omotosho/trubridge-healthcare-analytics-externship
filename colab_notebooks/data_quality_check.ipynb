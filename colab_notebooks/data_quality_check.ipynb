{
  "nbformat": 4,
  "nbformat_minor": 0,
  "metadata": {
    "colab": {
      "provenance": []
    },
    "kernelspec": {
      "name": "python3",
      "display_name": "Python 3"
    },
    "language_info": {
      "name": "python"
    }
  },
  "cells": [
    {
      "cell_type": "code",
      "execution_count": 1,
      "metadata": {
        "colab": {
          "base_uri": "https://localhost:8080/"
        },
        "id": "BAtoF_EF3ftB",
        "outputId": "3a076d6b-bf5d-42ed-b7d6-024e0f5291ac"
      },
      "outputs": [
        {
          "output_type": "stream",
          "name": "stdout",
          "text": [
            "🔍 Missing Values:\n",
            " Patient_ID        0\n",
            "Age               0\n",
            "Blood_Pressure    0\n",
            "Blood_Type        0\n",
            "Patient_Name      0\n",
            "dtype: int64 \n",
            "\n",
            "📊 Data Types:\n",
            " Patient_ID         int64\n",
            "Age                int64\n",
            "Blood_Pressure     int64\n",
            "Blood_Type        object\n",
            "Patient_Name      object\n",
            "dtype: object \n",
            "\n",
            "🗂 Duplicate Rows: 0 \n",
            "\n",
            "📈 Summary Stats:\n",
            "        Patient_ID        Age  Blood_Pressure\n",
            "count    5.000000   5.000000        5.000000\n",
            "mean   103.000000  36.000000      119.000000\n",
            "std      1.581139   9.617692        8.944272\n",
            "min    101.000000  25.000000      110.000000\n",
            "25%    102.000000  30.000000      110.000000\n",
            "50%    103.000000  35.000000      120.000000\n",
            "75%    104.000000  40.000000      125.000000\n",
            "max    105.000000  50.000000      130.000000 \n",
            "\n",
            "🔢 Unique values in Blood_Type:\n",
            " ['O+' 'A+' 'B+'] \n",
            "\n",
            "🔢 Unique values in Patient_Name:\n",
            " [' Alice ' 'Bob' 'Charlie' ' David' 'Eve '] \n",
            "\n"
          ]
        }
      ],
      "source": [
        "import pandas as pd\n",
        "import numpy as np\n",
        "\n",
        "# Sample cleaned dataset\n",
        "data = {\n",
        "    'Patient_ID': [101, 102, 103, 104, 105],\n",
        "    'Age': [25, 30, 40, 35, 50],\n",
        "    'Blood_Pressure': [120, 130, 110, 110, 125],\n",
        "    'Blood_Type': ['O+', 'A+', 'O+', 'B+', 'A+'],\n",
        "    'Patient_Name': [' Alice ', 'Bob', 'Charlie', ' David', 'Eve ']\n",
        "}\n",
        "df = pd.DataFrame(data)\n",
        "\n",
        "# 🔍 Define the quality check function\n",
        "def data_quality_report(df):\n",
        "    print(\"🔍 Missing Values:\\n\", df.isnull().sum(), \"\\n\")\n",
        "    print(\"📊 Data Types:\\n\", df.dtypes, \"\\n\")\n",
        "    print(\"🗂 Duplicate Rows:\", df.duplicated().sum(), \"\\n\")\n",
        "    print(\"📈 Summary Stats:\\n\", df.describe(), \"\\n\")\n",
        "\n",
        "    for col in df.select_dtypes(include=['object']).columns:\n",
        "        print(f\"🔢 Unique values in {col}:\\n\", df[col].unique(), \"\\n\")\n",
        "\n",
        "# ✅ Run full audit\n",
        "data_quality_report(df)\n",
        "\n",
        "# 🧼 Example cleanup\n",
        "df['Patient_Name'] = df['Patient_Name'].str.strip()\n",
        "df['Blood_Type'] = df['Blood_Type'].str.upper()\n"
      ]
    }
  ]
}