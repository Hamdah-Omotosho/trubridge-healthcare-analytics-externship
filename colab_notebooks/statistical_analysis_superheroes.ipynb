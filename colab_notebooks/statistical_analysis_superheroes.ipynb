{
  "nbformat": 4,
  "nbformat_minor": 0,
  "metadata": {
    "colab": {
      "provenance": []
    },
    "kernelspec": {
      "name": "python3",
      "display_name": "Python 3"
    },
    "language_info": {
      "name": "python"
    }
  },
  "cells": [
    {
      "cell_type": "code",
      "execution_count": 1,
      "metadata": {
        "id": "yeCm_XEb7QZO"
      },
      "outputs": [],
      "source": [
        "import pandas as pd\n",
        "import numpy as np\n",
        "from scipy import stats\n",
        "import seaborn as sns\n",
        "import matplotlib.pyplot as plt\n",
        "from sklearn.model_selection import train_test_split\n",
        "from sklearn.linear_model import LogisticRegression\n"
      ]
    },
    {
      "cell_type": "code",
      "source": [
        "heroes_url = \"https://drive.google.com/uc?id=1kgrbMWapAWWjOqUeJoqQVN7Kgh-0GFyD\"\n",
        "powers_url = \"https://drive.google.com/uc?id=1CzJ-WTQuZStSJSt_M2HAl61F7djrrC18\"\n",
        "\n",
        "heroes_df = pd.read_csv(heroes_url)\n",
        "powers_df = pd.read_csv(powers_url)\n",
        "\n",
        "heroes_df['Race'] = heroes_df['Race'].replace({'-':np.nan})\n",
        "heroes_df['Alignment'] = heroes_df['Alignment'].replace({'-':np.nan})\n",
        "heroes_df.head(), powers_df.head()\n"
      ],
      "metadata": {
        "colab": {
          "base_uri": "https://localhost:8080/"
        },
        "id": "WNVSMjU57iN_",
        "outputId": "3894e22e-69a7-4214-8f5c-ba407f0faa3e"
      },
      "execution_count": 2,
      "outputs": [
        {
          "output_type": "execute_result",
          "data": {
            "text/plain": [
              "(          name Gender Eye color               Race Hair color  Height  \\\n",
              " 0       A-Bomb   Male    yellow              Human    No Hair   203.0   \n",
              " 1   Abe Sapien   Male      blue      Icthyo Sapien    No Hair   191.0   \n",
              " 2     Abin Sur   Male      blue            Ungaran    No Hair   185.0   \n",
              " 3  Abomination   Male     green  Human / Radiation    No Hair   203.0   \n",
              " 4      Abraxas   Male      blue      Cosmic Entity      Black   -99.0   \n",
              " \n",
              "            Publisher Skin color Alignment  Weight  \n",
              " 0      Marvel Comics          -      good   441.0  \n",
              " 1  Dark Horse Comics       blue      good    65.0  \n",
              " 2          DC Comics        red      good    90.0  \n",
              " 3      Marvel Comics          -       bad   441.0  \n",
              " 4      Marvel Comics          -       bad   -99.0  ,\n",
              "     hero_names  Agility  Accelerated Healing  Lantern Power Ring  \\\n",
              " 0      3-D Man     True                False               False   \n",
              " 1       A-Bomb    False                 True               False   \n",
              " 2   Abe Sapien     True                 True               False   \n",
              " 3     Abin Sur    False                False                True   \n",
              " 4  Abomination    False                 True               False   \n",
              " \n",
              "    Dimensional Awareness  Cold Resistance  Durability  Stealth  \\\n",
              " 0                  False            False       False    False   \n",
              " 1                  False            False        True    False   \n",
              " 2                  False             True        True    False   \n",
              " 3                  False            False       False    False   \n",
              " 4                  False            False       False    False   \n",
              " \n",
              "    Energy Absorption  Flight  ...  Web Creation  Reality Warping  Odin Force  \\\n",
              " 0              False   False  ...         False            False       False   \n",
              " 1              False   False  ...         False            False       False   \n",
              " 2              False   False  ...         False            False       False   \n",
              " 3              False   False  ...         False            False       False   \n",
              " 4              False   False  ...         False            False       False   \n",
              " \n",
              "    Symbiote Costume  Speed Force  Phoenix Force  Molecular Dissipation  \\\n",
              " 0             False        False          False                  False   \n",
              " 1             False        False          False                  False   \n",
              " 2             False        False          False                  False   \n",
              " 3             False        False          False                  False   \n",
              " 4             False        False          False                  False   \n",
              " \n",
              "    Vision - Cryo  Omnipresent  Omniscient  \n",
              " 0          False        False       False  \n",
              " 1          False        False       False  \n",
              " 2          False        False       False  \n",
              " 3          False        False       False  \n",
              " 4          False        False       False  \n",
              " \n",
              " [5 rows x 168 columns])"
            ]
          },
          "metadata": {},
          "execution_count": 2
        }
      ]
    },
    {
      "cell_type": "code",
      "source": [
        "# Numerical\n",
        "print(heroes_df.describe())\n",
        "\n",
        "# Categorical\n",
        "print(\"Most common superhero race:\", heroes_df['Race'].mode()[0])\n",
        "print(heroes_df['Alignment'].value_counts())\n",
        "\n",
        "# Missing values\n",
        "print(heroes_df.isnull().sum())\n",
        "\n",
        "# Fill missing height with median\n",
        "heroes_df['Height'].fillna(heroes_df['Height'].median(), inplace=True)\n"
      ],
      "metadata": {
        "colab": {
          "base_uri": "https://localhost:8080/"
        },
        "id": "tjqOwqsm7rxD",
        "outputId": "f1123446-116a-4816-d008-158ec9095d4f"
      },
      "execution_count": 3,
      "outputs": [
        {
          "output_type": "stream",
          "name": "stdout",
          "text": [
            "           Height      Weight\n",
            "count  734.000000  732.000000\n",
            "mean   102.254087   43.855191\n",
            "std    139.624543  130.823733\n",
            "min    -99.000000  -99.000000\n",
            "25%    -99.000000  -99.000000\n",
            "50%    175.000000   62.000000\n",
            "75%    185.000000   90.000000\n",
            "max    975.000000  900.000000\n",
            "Most common superhero race: Human\n",
            "Alignment\n",
            "good       496\n",
            "bad        207\n",
            "neutral     24\n",
            "Name: count, dtype: int64\n",
            "name            0\n",
            "Gender          0\n",
            "Eye color       0\n",
            "Race          304\n",
            "Hair color      0\n",
            "Height          0\n",
            "Publisher      15\n",
            "Skin color      0\n",
            "Alignment       7\n",
            "Weight          2\n",
            "dtype: int64\n"
          ]
        },
        {
          "output_type": "stream",
          "name": "stderr",
          "text": [
            "<ipython-input-3-0f630e45b8f3>:12: FutureWarning: A value is trying to be set on a copy of a DataFrame or Series through chained assignment using an inplace method.\n",
            "The behavior will change in pandas 3.0. This inplace method will never work because the intermediate object on which we are setting values always behaves as a copy.\n",
            "\n",
            "For example, when doing 'df[col].method(value, inplace=True)', try using 'df.method({col: value}, inplace=True)' or df[col] = df[col].method(value) instead, to perform the operation inplace on the original object.\n",
            "\n",
            "\n",
            "  heroes_df['Height'].fillna(heroes_df['Height'].median(), inplace=True)\n"
          ]
        }
      ]
    },
    {
      "cell_type": "code",
      "source": [
        "marvel = heroes_df[heroes_df['Publisher'] == 'Marvel Comics']['Height'].dropna()\n",
        "dc = heroes_df[heroes_df['Publisher'] == 'DC Comics']['Height'].dropna()\n",
        "\n",
        "t_stat, p_value = stats.ttest_ind(marvel, dc)\n",
        "print(f\"T-statistic: {t_stat:.3f}, P-value: {p_value:.3f}\")\n"
      ],
      "metadata": {
        "colab": {
          "base_uri": "https://localhost:8080/"
        },
        "id": "Z313L7LQ7uvz",
        "outputId": "cce8d7bd-7d71-4194-ae9e-61ed95f971a2"
      },
      "execution_count": 4,
      "outputs": [
        {
          "output_type": "stream",
          "name": "stdout",
          "text": [
            "T-statistic: 4.748, P-value: 0.000\n"
          ]
        }
      ]
    },
    {
      "cell_type": "code",
      "source": [
        "merged_df = heroes_df.merge(powers_df, left_on='name', right_on='hero_names', how='left')\n",
        "heroes = merged_df[merged_df['Alignment'] == 'good']\n",
        "villains = merged_df[merged_df['Alignment'] == 'bad']\n",
        "\n",
        "table = [[heroes['Super Strength'].sum(), len(heroes) - heroes['Super Strength'].sum()],\n",
        "         [villains['Super Strength'].sum(), len(villains) - villains['Super Strength'].sum()]]\n",
        "\n",
        "chi2, p, dof, expected = stats.chi2_contingency(table)\n",
        "print(f\"Chi-Square: {chi2:.2f}, P-value: {p:.3f}\")\n"
      ],
      "metadata": {
        "colab": {
          "base_uri": "https://localhost:8080/"
        },
        "id": "ZzVCUSHs7xLO",
        "outputId": "ef6b9439-173c-4b61-f463-c9e40f55f577"
      },
      "execution_count": 5,
      "outputs": [
        {
          "output_type": "stream",
          "name": "stdout",
          "text": [
            "Chi-Square: 18.66, P-value: 0.000\n"
          ]
        }
      ]
    },
    {
      "cell_type": "code",
      "source": [
        "print(\"P(Super Speed):\", powers_df['Super Speed'].mean())\n",
        "print(\"P(Flight & Strength):\", (powers_df['Flight'] & powers_df['Super Strength']).mean())\n",
        "print(\"P(Flight OR Strength):\", (powers_df['Flight'] | powers_df['Super Strength']).mean())\n"
      ],
      "metadata": {
        "colab": {
          "base_uri": "https://localhost:8080/"
        },
        "id": "_N9WD4Gg71jD",
        "outputId": "beb8c075-3d54-41f9-c4bb-fa6cbd6761ea"
      },
      "execution_count": 6,
      "outputs": [
        {
          "output_type": "stream",
          "name": "stdout",
          "text": [
            "P(Super Speed): 0.3733133433283358\n",
            "P(Flight & Strength): 0.22038980509745126\n",
            "P(Flight OR Strength): 0.6371814092953523\n"
          ]
        }
      ]
    },
    {
      "cell_type": "code",
      "source": [
        "corr_matrix = heroes_df[['Height', 'Weight']].corr()\n",
        "sns.heatmap(corr_matrix, annot=True, cmap='coolwarm')\n",
        "plt.title('Correlation Heatmap')\n",
        "plt.show()\n"
      ],
      "metadata": {
        "colab": {
          "base_uri": "https://localhost:8080/",
          "height": 452
        },
        "id": "gy5HcuyH74Mg",
        "outputId": "8f0810fb-0fac-451c-cddd-a1f23f99718d"
      },
      "execution_count": 7,
      "outputs": [
        {
          "output_type": "display_data",
          "data": {
            "text/plain": [
              "<Figure size 640x480 with 2 Axes>"
            ],
            "image/png": "[encoded data removed]"
          },
          "metadata": {}
        }
      ]
    },
    {
      "cell_type": "code",
      "source": [
        "X = powers_df[['Super Strength']].astype(int)\n",
        "y = powers_df['Flight'].astype(int)\n",
        "\n",
        "X_train, X_test, y_train, y_test = train_test_split(X, y, test_size=0.2, random_state=42)\n",
        "log_reg = LogisticRegression()\n",
        "log_reg.fit(X_train, y_train)\n",
        "\n",
        "y_pred_prob = log_reg.predict_proba(X_test)[:,1]\n",
        "y_pred = (y_pred_prob >= 0.5).astype(int)\n",
        "\n",
        "# Plotting\n",
        "plt.scatter(X_test, y_test, color='blue')\n",
        "x_vals = np.linspace(0, 1, 100).reshape(-1, 1)\n",
        "y_vals = log_reg.predict_proba(x_vals)[:,1]\n",
        "plt.plot(x_vals, y_vals, color='red')\n",
        "plt.xlabel(\"Super Strength\")\n",
        "plt.ylabel(\"P(Flight)\")\n",
        "plt.title(\"Logistic Regression\")\n",
        "plt.show()\n"
      ],
      "metadata": {
        "colab": {
          "base_uri": "https://localhost:8080/",
          "height": 528
        },
        "id": "tcd3YVcm79xY",
        "outputId": "14aa4386-3e2a-4660-f529-fed0dc3b522f"
      },
      "execution_count": 8,
      "outputs": [
        {
          "output_type": "stream",
          "name": "stderr",
          "text": [
            "/usr/local/lib/python3.11/dist-packages/sklearn/utils/validation.py:2739: UserWarning: X does not have valid feature names, but LogisticRegression was fitted with feature names\n",
            "  warnings.warn(\n"
          ]
        },
        {
          "output_type": "display_data",
          "data": {
            "text/plain": [
              "<Figure size 640x480 with 1 Axes>"
            ],
            "image/png": "[encoded data removed]"
          },
          "metadata": {}
        }
      ]
    }
  ]
}