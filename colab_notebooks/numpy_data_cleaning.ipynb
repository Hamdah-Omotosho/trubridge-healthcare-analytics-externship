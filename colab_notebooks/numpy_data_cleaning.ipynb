{
  "nbformat": 4,
  "nbformat_minor": 0,
  "metadata": {
    "colab": {
      "provenance": []
    },
    "kernelspec": {
      "name": "python3",
      "display_name": "Python 3"
    },
    "language_info": {
      "name": "python"
    }
  },
  "cells": [
    {
      "cell_type": "code",
      "execution_count": 1,
      "metadata": {
        "id": "b2tQ5QPyfxf-"
      },
      "outputs": [],
      "source": [
        "# Importing libraries\n",
        "import numpy as np\n",
        "import pandas as pd"
      ]
    },
    {
      "cell_type": "code",
      "source": [
        "# Upload the CSV file and read it into a DataFrame\n",
        "data = {\n",
        "    'Hospitalization_Rate': [12.5, 88.3, np.nan, 105.0, 47.6, 98.1, -5, 65.2],\n",
        "    'Length_of_Stay': [3, 7, 5, 20, 2, 6, 4, 8],\n",
        "    'Age_Group': ['30', '45', '29', '70', '55', '60', '25', '50']\n",
        "}\n",
        "df = pd.DataFrame(data)"
      ],
      "metadata": {
        "id": "zx45lOCAgTor"
      },
      "execution_count": 3,
      "outputs": []
    },
    {
      "cell_type": "code",
      "source": [
        "hospitalization_rates = df['Hospitalization_Rate'].values\n",
        "mean_hospitalization = np.nanmean(hospitalization_rates)\n",
        "hospitalization_rates = np.where(np.isnan(hospitalization_rates), mean_hospitalization, hospitalization_rates)\n",
        "df['Hospitalization_Rate'] = hospitalization_rates\n"
      ],
      "metadata": {
        "id": "pngahCRngt6n"
      },
      "execution_count": 5,
      "outputs": []
    },
    {
      "cell_type": "code",
      "source": [
        "valid_hospitalization = hospitalization_rates[(hospitalization_rates >= 0) & (hospitalization_rates <= 100)]\n",
        "df = df[df['Hospitalization_Rate'].isin(valid_hospitalization)]\n"
      ],
      "metadata": {
        "id": "DvklFlVkgwNy"
      },
      "execution_count": 6,
      "outputs": []
    },
    {
      "cell_type": "code",
      "source": [
        "length_of_stay = df['Length_of_Stay'].values\n",
        "avg_stay = np.mean(length_of_stay)\n",
        "max_stay = np.max(length_of_stay)\n",
        "\n",
        "print(f\"Average Hospital Stay: {avg_stay:.2f} days\")\n",
        "print(f\"Longest Hospital Stay: {max_stay} days\")\n"
      ],
      "metadata": {
        "colab": {
          "base_uri": "https://localhost:8080/"
        },
        "id": "zCzS6QZ2g2X5",
        "outputId": "39b1f70b-f473-484e-8d5b-d80a816b4e6a"
      },
      "execution_count": 7,
      "outputs": [
        {
          "output_type": "stream",
          "name": "stdout",
          "text": [
            "Average Hospital Stay: 5.17 days\n",
            "Longest Hospital Stay: 8 days\n"
          ]
        }
      ]
    },
    {
      "cell_type": "code",
      "source": [
        "ratings = df['Hospitalization_Rate'].values\n",
        "min_rating = np.min(ratings)\n",
        "max_rating = np.max(ratings)\n",
        "normalized_ratings = (ratings - min_rating) / (max_rating - min_rating)\n",
        "df['Normalized_Rating'] = normalized_ratings\n"
      ],
      "metadata": {
        "id": "E_i5MIj8g87-"
      },
      "execution_count": 8,
      "outputs": []
    },
    {
      "cell_type": "code",
      "source": [
        "df['Age_Group'] = df['Age_Group'].astype(np.int64)\n"
      ],
      "metadata": {
        "id": "ty8nZEFShDnx"
      },
      "execution_count": 9,
      "outputs": []
    },
    {
      "cell_type": "code",
      "source": [
        "np.savetxt('cleaned_data.csv', df.values, delimiter=\",\", fmt='%s', header=\"Hospitalization_Rate,Length_of_Stay,Age_Group,Normalized_Rating\", comments='')\n"
      ],
      "metadata": {
        "id": "4FtFbu30hF-_"
      },
      "execution_count": 10,
      "outputs": []
    }
  ]
}