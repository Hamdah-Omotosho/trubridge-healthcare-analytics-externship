{
  "nbformat": 4,
  "nbformat_minor": 0,
  "metadata": {
    "colab": {
      "provenance": []
    },
    "kernelspec": {
      "name": "python3",
      "display_name": "Python 3"
    },
    "language_info": {
      "name": "python"
    }
  },
  "cells": [
    {
      "cell_type": "code",
      "execution_count": 10,
      "metadata": {
        "id": "lVSCk18rjKbp"
      },
      "outputs": [],
      "source": [
        "import pandas as pd\n",
        "import numpy as np\n",
        "from sklearn.preprocessing import MinMaxScaler"
      ]
    },
    {
      "cell_type": "code",
      "source": [
        "# Simulated hospital data\n",
        "data = pd.DataFrame({\n",
        "    'Infection_Rate': [5, 20, 55, 70, 90],      # 0–100\n",
        "    'Hospital_Stay': [2, 5, 10, 20, 40],         # 1–45\n",
        "    'Expenses': [200, 1000, 5000, 25000, 200000] # Wide range\n",
        "})"
      ],
      "metadata": {
        "id": "JWmnc7p_jWPY"
      },
      "execution_count": 9,
      "outputs": []
    },
    {
      "cell_type": "code",
      "source": [
        "scaler = MinMaxScaler()\n",
        "data[['Infection_Rate', 'Hospital_Stay']] = scaler.fit_transform(data[['Infection_Rate', 'Hospital_Stay']])\n"
      ],
      "metadata": {
        "id": "CyrS1xscjfKa"
      },
      "execution_count": 11,
      "outputs": []
    },
    {
      "cell_type": "code",
      "source": [
        "data['Expenses'] = np.log1p(data['Expenses'])  # log1p handles log(0)\n"
      ],
      "metadata": {
        "id": "Yn1mQSOtjhrW"
      },
      "execution_count": 13,
      "outputs": []
    },
    {
      "cell_type": "code",
      "source": [
        "print(data)\n"
      ],
      "metadata": {
        "colab": {
          "base_uri": "https://localhost:8080/"
        },
        "id": "O9XAg1AJjkAZ",
        "outputId": "2c928a44-542a-4ad2-8ffb-8bd6165084da"
      },
      "execution_count": 14,
      "outputs": [
        {
          "output_type": "stream",
          "name": "stdout",
          "text": [
            "   Infection_Rate  Hospital_Stay  Expenses\n",
            "0        0.000000       0.000000  1.841074\n",
            "1        0.176471       0.078947  2.067970\n",
            "2        0.588235       0.210526  2.253121\n",
            "3        0.764706       0.473684  2.409345\n",
            "4        1.000000       1.000000  2.580677\n"
          ]
        }
      ]
    }
  ]
}