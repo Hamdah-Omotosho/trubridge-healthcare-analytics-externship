{
  "nbformat": 4,
  "nbformat_minor": 0,
  "metadata": {
    "colab": {
      "provenance": []
    },
    "kernelspec": {
      "name": "python3",
      "display_name": "Python 3"
    },
    "language_info": {
      "name": "python"
    }
  },
  "cells": [
    {
      "cell_type": "code",
      "execution_count": 1,
      "metadata": {
        "id": "vdQAepNma99V"
      },
      "outputs": [],
      "source": [
        "import numpy as np"
      ]
    },
    {
      "cell_type": "code",
      "source": [
        "arr = np.array([1, 2, 3, 4, 5])  # Simple 1D array\n",
        "print(arr)\n"
      ],
      "metadata": {
        "colab": {
          "base_uri": "https://localhost:8080/"
        },
        "id": "1Db3wp8DbGcE",
        "outputId": "3c1540fd-faa0-4595-bc22-f93958941e49"
      },
      "execution_count": 2,
      "outputs": [
        {
          "output_type": "stream",
          "name": "stdout",
          "text": [
            "[1 2 3 4 5]\n"
          ]
        }
      ]
    },
    {
      "cell_type": "code",
      "source": [
        "matrix = np.array([[1, 2, 3], [4, 5, 6]])  #Simple 2D array\n",
        "print(matrix)"
      ],
      "metadata": {
        "colab": {
          "base_uri": "https://localhost:8080/"
        },
        "id": "PQJtwDvibPMd",
        "outputId": "fccad914-efb8-4f4c-ea12-71418938b30a"
      },
      "execution_count": 3,
      "outputs": [
        {
          "output_type": "stream",
          "name": "stdout",
          "text": [
            "[[1 2 3]\n",
            " [4 5 6]]\n"
          ]
        }
      ]
    },
    {
      "cell_type": "code",
      "source": [
        "print(arr[0])  # Prints the first element, which is 1"
      ],
      "metadata": {
        "colab": {
          "base_uri": "https://localhost:8080/"
        },
        "id": "RI7WuBoWbV6K",
        "outputId": "966f8876-4642-4904-ce6c-39528bd49732"
      },
      "execution_count": 4,
      "outputs": [
        {
          "output_type": "stream",
          "name": "stdout",
          "text": [
            "1\n"
          ]
        }
      ]
    },
    {
      "cell_type": "code",
      "source": [
        "print(matrix[0, 1])  # Accesses the element at row 0, column 1, which is 2\n"
      ],
      "metadata": {
        "colab": {
          "base_uri": "https://localhost:8080/"
        },
        "id": "W4vVlL03bXGd",
        "outputId": "a3b2e6f0-26a3-47aa-8b0c-b8ee8643dc05"
      },
      "execution_count": 5,
      "outputs": [
        {
          "output_type": "stream",
          "name": "stdout",
          "text": [
            "2\n"
          ]
        }
      ]
    },
    {
      "cell_type": "code",
      "source": [
        "arr = np.array([1, 2, 3, 4, 5])\n",
        "arr_plus_10 = arr + 10  # Add 10 to each element of the array\n",
        "print(arr_plus_10)\n",
        "#This is called vectorisation."
      ],
      "metadata": {
        "colab": {
          "base_uri": "https://localhost:8080/"
        },
        "id": "bvilwmf9cDqQ",
        "outputId": "318dc48a-c64f-4495-b9a3-735743aaf098"
      },
      "execution_count": 6,
      "outputs": [
        {
          "output_type": "stream",
          "name": "stdout",
          "text": [
            "[11 12 13 14 15]\n"
          ]
        }
      ]
    },
    {
      "cell_type": "code",
      "source": [
        "arr2 = np.array([5, 4, 3, 2, 1])\n",
        "result = arr + arr2  # Adding corresponding elements from both arrays\n",
        "print(result)"
      ],
      "metadata": {
        "colab": {
          "base_uri": "https://localhost:8080/"
        },
        "id": "xDRNeGr0cckz",
        "outputId": "eaebcdc2-18b1-4882-9d79-0ca20fcff337"
      },
      "execution_count": 7,
      "outputs": [
        {
          "output_type": "stream",
          "name": "stdout",
          "text": [
            "[6 6 6 6 6]\n"
          ]
        }
      ]
    },
    {
      "cell_type": "code",
      "source": [
        "print(np.mean(arr))  # Get the mean (average) of the array\n",
        "print(np.sum(arr))   # Get the sum of the array\n",
        "print(np.max(arr))   # Find the maximum value in the array\n"
      ],
      "metadata": {
        "colab": {
          "base_uri": "https://localhost:8080/"
        },
        "id": "PK1N2B1tcgKv",
        "outputId": "6fccdac9-c181-4ff9-b52e-62dc9ec79e83"
      },
      "execution_count": 8,
      "outputs": [
        {
          "output_type": "stream",
          "name": "stdout",
          "text": [
            "3.0\n",
            "15\n",
            "5\n"
          ]
        }
      ]
    },
    {
      "cell_type": "code",
      "source": [
        "arr_reshaped = arr.reshape(1, 5)  # Reshape to 1 row and 5 columns\n",
        "print(arr_reshaped)"
      ],
      "metadata": {
        "colab": {
          "base_uri": "https://localhost:8080/"
        },
        "id": "JRwpaIcCcl0-",
        "outputId": "aa08c053-0ecf-4f35-85df-2579a91de8b8"
      },
      "execution_count": 9,
      "outputs": [
        {
          "output_type": "stream",
          "name": "stdout",
          "text": [
            "[[1 2 3 4 5]]\n"
          ]
        }
      ]
    },
    {
      "cell_type": "code",
      "source": [
        "arr = np.array([1, 2, 3, 4])\n",
        "arr = arr + 5  # Adds 5 to each element in the array\n",
        "print(arr)\n"
      ],
      "metadata": {
        "colab": {
          "base_uri": "https://localhost:8080/"
        },
        "id": "TbSX_mF3cq7z",
        "outputId": "68e99fc2-34fc-4672-f9b0-19417e387c04"
      },
      "execution_count": 10,
      "outputs": [
        {
          "output_type": "stream",
          "name": "stdout",
          "text": [
            "[6 7 8 9]\n"
          ]
        }
      ]
    },
    {
      "cell_type": "code",
      "source": [
        "zeros_array = np.zeros((3, 3))  # 3x3 array of zeros\n",
        "print(zeros_array)\n",
        "\n",
        "ones_array = np.ones((2, 4))  # 2x4 array of ones\n",
        "print(ones_array)\n",
        "\n",
        "range_array = np.arange(0, 10, 2)  # Array from 0 to 10 with step of 2\n",
        "print(range_array)\n",
        "\n",
        "random_array = np.random.rand(3, 2)  # 3x2 array of random numbers between 0 and 1\n",
        "print(random_array)\n",
        "#np.zeros(): Create an array filled with zeros.\n",
        "#np.ones(): Create an array filled with ones.\n",
        "#np.arange(): Create an array with a range of values.\n",
        "#np.random.rand(): Generate random numbers."
      ],
      "metadata": {
        "colab": {
          "base_uri": "https://localhost:8080/"
        },
        "id": "iMocdWVacvE6",
        "outputId": "b465bd85-eecd-4b65-c9f7-6200b841b141"
      },
      "execution_count": 11,
      "outputs": [
        {
          "output_type": "stream",
          "name": "stdout",
          "text": [
            "[[0. 0. 0.]\n",
            " [0. 0. 0.]\n",
            " [0. 0. 0.]]\n",
            "[[1. 1. 1. 1.]\n",
            " [1. 1. 1. 1.]]\n",
            "[0 2 4 6 8]\n",
            "[[0.13715118 0.15194941]\n",
            " [0.92182005 0.38241565]\n",
            " [0.86707069 0.98576186]]\n"
          ]
        }
      ]
    }
  ]
}